{
 "cells": [
  {
   "cell_type": "markdown",
   "metadata": {},
   "source": [
    "# Course: Introduction to R (DataCamp)"
   ]
  },
  {
   "cell_type": "markdown",
   "metadata": {},
   "source": [
    "## Topic: Vectors"
   ]
  },
  {
   "cell_type": "markdown",
   "metadata": {},
   "source": [
    "### Exercise: Create a vector"
   ]
  },
  {
   "cell_type": "code",
   "execution_count": 1,
   "metadata": {},
   "outputs": [],
   "source": [
    "# Define the variable vegas\n",
    "vegas <- \"Go!\""
   ]
  },
  {
   "cell_type": "markdown",
   "metadata": {},
   "source": [
    "### Exercise: Create a vector (2)"
   ]
  },
  {
   "cell_type": "code",
   "execution_count": 2,
   "metadata": {},
   "outputs": [],
   "source": [
    "numeric_vector <- c(1, 10, 49)\n",
    "character_vector <- c(\"a\", \"b\", \"c\")\n",
    "\n",
    "# Complete the code for boolean_vector\n",
    "boolean_vector <- c(TRUE, FALSE, TRUE)"
   ]
  },
  {
   "cell_type": "markdown",
   "metadata": {},
   "source": [
    "### Exercise: Create a vector (3)"
   ]
  },
  {
   "cell_type": "code",
   "execution_count": 3,
   "metadata": {},
   "outputs": [],
   "source": [
    "# Poker winnings from Monday to Friday\n",
    "poker_vector <- c(140, -50, 20, -120, 240)\n",
    "\n",
    "# Roulette winnings from Monday to Friday\n",
    "roulette_vector <-c(-24, -50, 100, -350, 10)"
   ]
  },
  {
   "cell_type": "markdown",
   "metadata": {},
   "source": [
    "### Exercise: Naming a vector"
   ]
  },
  {
   "cell_type": "code",
   "execution_count": 4,
   "metadata": {},
   "outputs": [],
   "source": [
    "# Poker winnings from Monday to Friday\n",
    "poker_vector <- c(140, -50, 20, -120, 240)\n",
    "\n",
    "# Roulette winnings from Monday to Friday\n",
    "roulette_vector <- c(-24, -50, 100, -350, 10)\n",
    "\n",
    "# Assign days as names of poker_vector\n",
    "names(poker_vector) <- c(\"Monday\", \"Tuesday\", \"Wednesday\", \"Thursday\", \"Friday\")\n",
    "\n",
    "# Assign days as names of roulette_vector\n",
    "names(roulette_vector) <- c(\"Monday\", \"Tuesday\", \"Wednesday\", \"Thursday\", \"Friday\")"
   ]
  },
  {
   "cell_type": "markdown",
   "metadata": {},
   "source": [
    "### Exercise: Naming a vector (2)"
   ]
  },
  {
   "cell_type": "code",
   "execution_count": 6,
   "metadata": {},
   "outputs": [],
   "source": [
    "# Poker winnings from Monday to Friday\n",
    "poker_vector <- c(140, -50, 20, -120, 240)\n",
    "\n",
    "# Roulette winnings from Monday to Friday\n",
    "roulette_vector <- c(-24, -50, 100, -350, 10)\n",
    "\n",
    "# The variable days_vector\n",
    "days_vector <- c(\"Monday\", \"Tuesday\", \"Wednesday\", \"Thursday\", \"Friday\")\n",
    " \n",
    "# Assign the names of the day to roulette_vector and poker_vector\n",
    "names(poker_vector) <- days_vector\n",
    "names(roulette_vector) <- days_vector"
   ]
  },
  {
   "cell_type": "markdown",
   "metadata": {},
   "source": [
    "### Exercise: Calculating total winnings"
   ]
  },
  {
   "cell_type": "code",
   "execution_count": 7,
   "metadata": {},
   "outputs": [
    {
     "data": {
      "text/html": [
       "<style>\n",
       ".list-inline {list-style: none; margin:0; padding: 0}\n",
       ".list-inline>li {display: inline-block}\n",
       ".list-inline>li:not(:last-child)::after {content: \"\\00b7\"; padding: 0 .5ex}\n",
       "</style>\n",
       "<ol class=list-inline><li>5</li><li>7</li><li>9</li></ol>\n"
      ],
      "text/latex": [
       "\\begin{enumerate*}\n",
       "\\item 5\n",
       "\\item 7\n",
       "\\item 9\n",
       "\\end{enumerate*}\n"
      ],
      "text/markdown": [
       "1. 5\n",
       "2. 7\n",
       "3. 9\n",
       "\n",
       "\n"
      ],
      "text/plain": [
       "[1] 5 7 9"
      ]
     },
     "metadata": {},
     "output_type": "display_data"
    }
   ],
   "source": [
    "A_vector <- c(1, 2, 3)\n",
    "B_vector <- c(4, 5, 6)\n",
    "\n",
    "# Take the sum of A_vector and B_vector\n",
    "total_vector <- A_vector + B_vector\n",
    "  \n",
    "# Print out total_vector\n",
    "total_vector"
   ]
  },
  {
   "cell_type": "markdown",
   "metadata": {},
   "source": [
    "### Exercise: Calculating total winnings (2)"
   ]
  },
  {
   "cell_type": "code",
   "execution_count": 8,
   "metadata": {},
   "outputs": [],
   "source": [
    "# Poker and roulette winnings from Monday to Friday:\n",
    "poker_vector <- c(140, -50, 20, -120, 240)\n",
    "roulette_vector <- c(-24, -50, 100, -350, 10)\n",
    "days_vector <- c(\"Monday\", \"Tuesday\", \"Wednesday\", \"Thursday\", \"Friday\")\n",
    "names(poker_vector) <- days_vector\n",
    "names(roulette_vector) <- days_vector\n",
    "\n",
    "# Assign to total_daily how much you won/lost on each day\n",
    "total_daily <- poker_vector + roulette_vector"
   ]
  },
  {
   "cell_type": "markdown",
   "metadata": {},
   "source": [
    "### Exercise: Calculating total winnings (3)"
   ]
  },
  {
   "cell_type": "code",
   "execution_count": 9,
   "metadata": {},
   "outputs": [
    {
     "data": {
      "text/html": [
       "-84"
      ],
      "text/latex": [
       "-84"
      ],
      "text/markdown": [
       "-84"
      ],
      "text/plain": [
       "[1] -84"
      ]
     },
     "metadata": {},
     "output_type": "display_data"
    }
   ],
   "source": [
    "# Poker and roulette winnings from Monday to Friday:\n",
    "poker_vector <- c(140, -50, 20, -120, 240)\n",
    "roulette_vector <- c(-24, -50, 100, -350, 10)\n",
    "days_vector <- c(\"Monday\", \"Tuesday\", \"Wednesday\", \"Thursday\", \"Friday\")\n",
    "names(poker_vector) <- days_vector\n",
    "names(roulette_vector) <- days_vector\n",
    "\n",
    "# Total winnings with poker\n",
    "total_poker <- sum(poker_vector)\n",
    "\n",
    "# Total winnings with roulette\n",
    "total_roulette <- sum(roulette_vector) \n",
    "\n",
    "# Total winnings overall\n",
    "total_week <- total_poker + total_roulette\n",
    "\n",
    "# Print out total_week\n",
    "total_week"
   ]
  },
  {
   "cell_type": "markdown",
   "metadata": {},
   "source": [
    "### Exercise: Comparing total winnings"
   ]
  },
  {
   "cell_type": "code",
   "execution_count": 10,
   "metadata": {},
   "outputs": [
    {
     "data": {
      "text/html": [
       "TRUE"
      ],
      "text/latex": [
       "TRUE"
      ],
      "text/markdown": [
       "TRUE"
      ],
      "text/plain": [
       "[1] TRUE"
      ]
     },
     "metadata": {},
     "output_type": "display_data"
    }
   ],
   "source": [
    "# Poker and roulette winnings from Monday to Friday:\n",
    "poker_vector <- c(140, -50, 20, -120, 240)\n",
    "roulette_vector <- c(-24, -50, 100, -350, 10)\n",
    "days_vector <- c(\"Monday\", \"Tuesday\", \"Wednesday\", \"Thursday\", \"Friday\")\n",
    "names(poker_vector) <- days_vector\n",
    "names(roulette_vector) <- days_vector\n",
    "\n",
    "# Calculate total gains for poker and roulette\n",
    "total_poker <- sum(poker_vector)\n",
    "total_roulette <- sum(roulette_vector)\n",
    "\n",
    "# Check if you realized higher total gains in poker than in roulette \n",
    "total_poker > total_roulette"
   ]
  },
  {
   "cell_type": "markdown",
   "metadata": {},
   "source": [
    "### Exercise: Vector selection: the good times"
   ]
  },
  {
   "cell_type": "code",
   "execution_count": 11,
   "metadata": {},
   "outputs": [],
   "source": [
    "# Poker and roulette winnings from Monday to Friday:\n",
    "poker_vector <- c(140, -50, 20, -120, 240)\n",
    "roulette_vector <- c(-24, -50, 100, -350, 10)\n",
    "days_vector <- c(\"Monday\", \"Tuesday\", \"Wednesday\", \"Thursday\", \"Friday\")\n",
    "names(poker_vector) <- days_vector\n",
    "names(roulette_vector) <- days_vector\n",
    "\n",
    "# Define a new variable based on a selection\n",
    "poker_wednesday <- poker_vector[3]"
   ]
  },
  {
   "cell_type": "markdown",
   "metadata": {},
   "source": [
    "### Exercise: Vector selection: the good times (2)"
   ]
  },
  {
   "cell_type": "code",
   "execution_count": 12,
   "metadata": {},
   "outputs": [],
   "source": [
    "# Poker and roulette winnings from Monday to Friday:\n",
    "poker_vector <- c(140, -50, 20, -120, 240)\n",
    "roulette_vector <- c(-24, -50, 100, -350, 10)\n",
    "days_vector <- c(\"Monday\", \"Tuesday\", \"Wednesday\", \"Thursday\", \"Friday\")\n",
    "names(poker_vector) <- days_vector\n",
    "names(roulette_vector) <- days_vector\n",
    "\n",
    "# Define a new variable based on a selection\n",
    "poker_midweek <- poker_vector[c(2,3,4)]"
   ]
  },
  {
   "cell_type": "markdown",
   "metadata": {},
   "source": [
    "### Exercise: Vector selection: the good times (3)"
   ]
  },
  {
   "cell_type": "code",
   "execution_count": 13,
   "metadata": {},
   "outputs": [],
   "source": [
    "# Poker and roulette winnings from Monday to Friday:\n",
    "poker_vector <- c(140, -50, 20, -120, 240)\n",
    "roulette_vector <- c(-24, -50, 100, -350, 10)\n",
    "days_vector <- c(\"Monday\", \"Tuesday\", \"Wednesday\", \"Thursday\", \"Friday\")\n",
    "names(poker_vector) <- days_vector\n",
    "names(roulette_vector) <- days_vector\n",
    "\n",
    "# Define a new variable based on a selection\n",
    "roulette_selection_vector <- roulette_vector[c(2:5)]"
   ]
  },
  {
   "cell_type": "markdown",
   "metadata": {},
   "source": [
    "### Vector selection: the good times (4)"
   ]
  },
  {
   "cell_type": "code",
   "execution_count": 15,
   "metadata": {},
   "outputs": [
    {
     "data": {
      "text/html": [
       "36.6666666666667"
      ],
      "text/latex": [
       "36.6666666666667"
      ],
      "text/markdown": [
       "36.6666666666667"
      ],
      "text/plain": [
       "[1] 36.66667"
      ]
     },
     "metadata": {},
     "output_type": "display_data"
    }
   ],
   "source": [
    "# Poker and roulette winnings from Monday to Friday:\n",
    "poker_vector <- c(140, -50, 20, -120, 240)\n",
    "roulette_vector <- c(-24, -50, 100, -350, 10)\n",
    "days_vector <- c(\"Monday\", \"Tuesday\", \"Wednesday\", \"Thursday\", \"Friday\")\n",
    "names(poker_vector) <- days_vector\n",
    "names(roulette_vector) <- days_vector\n",
    "\n",
    "# Select poker results for Monday, Tuesday and Wednesday\n",
    "poker_start <- poker_vector[c(\"Monday\", \"Tuesday\", \"Wednesday\")]\n",
    "  \n",
    "# Calculate the average of the elements in poker_start\n",
    "mean(poker_start)"
   ]
  },
  {
   "cell_type": "markdown",
   "metadata": {},
   "source": [
    "### Exercise: Selection by comparison - Step 1"
   ]
  },
  {
   "cell_type": "code",
   "execution_count": 16,
   "metadata": {},
   "outputs": [
    {
     "data": {
      "text/html": [
       "<style>\n",
       ".dl-inline {width: auto; margin:0; padding: 0}\n",
       ".dl-inline>dt, .dl-inline>dd {float: none; width: auto; display: inline-block}\n",
       ".dl-inline>dt::after {content: \":\\0020\"; padding-right: .5ex}\n",
       ".dl-inline>dt:not(:first-of-type) {padding-left: .5ex}\n",
       "</style><dl class=dl-inline><dt>Monday</dt><dd>TRUE</dd><dt>Tuesday</dt><dd>FALSE</dd><dt>Wednesday</dt><dd>TRUE</dd><dt>Thursday</dt><dd>FALSE</dd><dt>Friday</dt><dd>TRUE</dd></dl>\n"
      ],
      "text/latex": [
       "\\begin{description*}\n",
       "\\item[Monday] TRUE\n",
       "\\item[Tuesday] FALSE\n",
       "\\item[Wednesday] TRUE\n",
       "\\item[Thursday] FALSE\n",
       "\\item[Friday] TRUE\n",
       "\\end{description*}\n"
      ],
      "text/markdown": [
       "Monday\n",
       ":   TRUETuesday\n",
       ":   FALSEWednesday\n",
       ":   TRUEThursday\n",
       ":   FALSEFriday\n",
       ":   TRUE\n",
       "\n"
      ],
      "text/plain": [
       "   Monday   Tuesday Wednesday  Thursday    Friday \n",
       "     TRUE     FALSE      TRUE     FALSE      TRUE "
      ]
     },
     "metadata": {},
     "output_type": "display_data"
    }
   ],
   "source": [
    "# Poker and roulette winnings from Monday to Friday:\n",
    "poker_vector <- c(140, -50, 20, -120, 240)\n",
    "roulette_vector <- c(-24, -50, 100, -350, 10)\n",
    "days_vector <- c(\"Monday\", \"Tuesday\", \"Wednesday\", \"Thursday\", \"Friday\")\n",
    "names(poker_vector) <- days_vector\n",
    "names(roulette_vector) <- days_vector\n",
    "\n",
    "# Which days did you make money on poker?\n",
    "selection_vector <- poker_vector > 0\n",
    "  \n",
    "# Print out selection_vector\n",
    "selection_vector"
   ]
  },
  {
   "cell_type": "markdown",
   "metadata": {},
   "source": [
    "### Exercise: Selection by comparison - Step 2"
   ]
  },
  {
   "cell_type": "code",
   "execution_count": 17,
   "metadata": {},
   "outputs": [],
   "source": [
    "# Poker and roulette winnings from Monday to Friday:\n",
    "poker_vector <- c(140, -50, 20, -120, 240)\n",
    "roulette_vector <- c(-24, -50, 100, -350, 10)\n",
    "days_vector <- c(\"Monday\", \"Tuesday\", \"Wednesday\", \"Thursday\", \"Friday\")\n",
    "names(poker_vector) <- days_vector\n",
    "names(roulette_vector) <- days_vector\n",
    "\n",
    "# Which days did you make money on poker?\n",
    "selection_vector <- poker_vector > 0\n",
    "\n",
    "# Select from poker_vector these days\n",
    "poker_winning_days <- poker_vector[selection_vector] "
   ]
  },
  {
   "cell_type": "markdown",
   "metadata": {},
   "source": [
    "### Exercise: Advanced selection"
   ]
  },
  {
   "cell_type": "code",
   "execution_count": null,
   "metadata": {},
   "outputs": [],
   "source": [
    "# Poker and roulette winnings from Monday to Friday:\n",
    "poker_vector <- c(140, -50, 20, -120, 240)\n",
    "roulette_vector <- c(-24, -50, 100, -350, 10)\n",
    "days_vector <- c(\"Monday\", \"Tuesday\", \"Wednesday\", \"Thursday\", \"Friday\")\n",
    "names(poker_vector) <- days_vector\n",
    "names(roulette_vector) <- days_vector\n",
    "\n",
    "# Which days did you make money on roulette?\n",
    "selection_vector <- roulette_vector > 0\n",
    "\n",
    "# Select from roulette_vector these days\n",
    "roulette_winning_days <- roulette_vector[selection_vector]"
   ]
  }
 ],
 "metadata": {
  "kernelspec": {
   "display_name": "R",
   "language": "R",
   "name": "ir"
  },
  "language_info": {
   "codemirror_mode": "r",
   "file_extension": ".r",
   "mimetype": "text/x-r-source",
   "name": "R",
   "pygments_lexer": "r",
   "version": "3.6.1"
  }
 },
 "nbformat": 4,
 "nbformat_minor": 4
}
